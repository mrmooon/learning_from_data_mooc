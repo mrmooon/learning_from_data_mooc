{
 "cells": [
  {
   "cell_type": "code",
   "execution_count": 1,
   "metadata": {},
   "outputs": [],
   "source": [
    "import numpy as np\n",
    "import matplotlib.pyplot as plt"
   ]
  },
  {
   "cell_type": "code",
   "execution_count": 2,
   "metadata": {},
   "outputs": [],
   "source": [
    "# Represents the problem target function, that is, a line defined by two points from [-1,1]x[-1,1]\n",
    "def get_target_function():\n",
    "    return np.random.uniform(-1,1,(2,2))\n",
    "\n",
    "class Dataset:\n",
    "    # Problem train dataset consisting of each problem point x and its class (0,1)\n",
    "    def __init__(self, num_samples, target_function):\n",
    "        self.x = np.random.uniform(-1,1,(num_samples,2))\n",
    "        self.y = np.array([self.__get_side(point, target_function) for point in self.x])\n",
    "        \n",
    "    # Get the side the given point lies in with respect to the line\n",
    "    def __get_side(self, point, line):\n",
    "        if (((point[0]-line[0,0])*(line[1,1]-line[0,1]))-((point[1]-line[0,1])*(line[1,0]-line[0,0]))>0):\n",
    "            return 1\n",
    "        else:\n",
    "            return -1\n",
    "    \n",
    "    def plot_dataset(self, target_function):\n",
    "        # Points on the line defined by target function between x = -1 and x = 1\n",
    "        m = (target_function[1,1]-target_function[0,1])/(target_function[1,0]-target_function[0,0])\n",
    "        b = target_function[0,1]-m*target_function[0,0]\n",
    "        x_target_line = np.linspace(-1,1,100000)\n",
    "        y_target_line = m*(x_target_line)+b\n",
    "        # Colour the regions above and below the line\n",
    "        plt.fill_between(x_target_line, y_target_line, min(y_target_line.min(), self.x[:,1].min()), alpha=.3)\n",
    "        plt.fill_between(x_target_line, y_target_line, max(y_target_line.max(), self.x[:,1].max()), alpha=.3)\n",
    "        \n",
    "        # Plot class 0 (y=-1) as circles\n",
    "        class_0_idx = np.argwhere(train_dataset.y == -1)\n",
    "        class_1_idx = np.argwhere(train_dataset.y == 1)\n",
    "        \n",
    "        plt.scatter(self.x[class_0_idx,0], self.x[class_0_idx,1], marker='^')\n",
    "        plt.scatter(self.x[class_1_idx,0], self.x[class_1_idx,1], marker='o')\n",
    "        plt.show()"
   ]
  },
  {
   "cell_type": "code",
   "execution_count": 3,
   "metadata": {},
   "outputs": [],
   "source": [
    "class Perceptron:\n",
    "    \n",
    "    def __init__(self, num_input_points):\n",
    "        self.weights = np.zeros(num_input_points)\n",
    "        self.bias = 0\n",
    "        \n",
    "    def __sign__(self, a):\n",
    "        get_sign = lambda y: 1 if (y >= 0) else -1\n",
    "        get_sign_vectorized = np.vectorize(get_sign) \n",
    "        return get_sign_vectorized(a)\n",
    "    \n",
    "    def __update_weights__(self, x, y):\n",
    "        self.weights += x*y\n",
    "        self.bias += y \n",
    "        \n",
    "    def classify(self, x):\n",
    "        return self.__sign__(np.sum(x*self.weights, axis=1)+self.bias)\n",
    "    \n",
    "    # Problem asks for the number of epochs, thats why we return its value\n",
    "    def train(self, x, y_real):\n",
    "        convergence = False\n",
    "        n_epochs = 0\n",
    "        while(not convergence):\n",
    "            n_epochs += 1\n",
    "            y_pred = self.classify(x)\n",
    "            missclasified_idx = np.argwhere(y_real != y_pred).flatten()\n",
    "            if (missclasified_idx.size != 0):\n",
    "                random_missclassified_idx = np.random.choice(missclasified_idx)\n",
    "                self.__update_weights__(x[random_missclassified_idx], y_real[random_missclassified_idx])\n",
    "            else:\n",
    "                convergence = True\n",
    "        \n",
    "        return n_epochs"
   ]
  },
  {
   "cell_type": "markdown",
   "metadata": {},
   "source": [
    "### Problem scenario\n",
    "\n",
    "\n",
    "Target function is a line that separates the input space [-1,1]x[-1,1] into two different regions. \n",
    "Each point of the dataset belongs to one of the regions. Its class represents the region."
   ]
  },
  {
   "cell_type": "code",
   "execution_count": 11,
   "metadata": {},
   "outputs": [
    {
     "data": {
      "image/png": "[encoded data removed]",
      "text/plain": [
       "<Figure size 432x288 with 1 Axes>"
      ]
     },
     "metadata": {
      "needs_background": "light"
     },
     "output_type": "display_data"
    }
   ],
   "source": [
    "target_function = get_target_function()\n",
    "train_dataset = Dataset(100, target_function)\n",
    "train_dataset.plot_dataset(target_function)"
   ]
  },
  {
   "cell_type": "markdown",
   "metadata": {},
   "source": [
    "#### Exercise 7 and 8"
   ]
  },
  {
   "cell_type": "code",
   "execution_count": 5,
   "metadata": {},
   "outputs": [],
   "source": [
    "dataset_size = 10"
   ]
  },
  {
   "cell_type": "markdown",
   "metadata": {},
   "source": [
    "#### Exercise 9 and 10"
   ]
  },
  {
   "cell_type": "code",
   "execution_count": 6,
   "metadata": {},
   "outputs": [],
   "source": [
    "dataset_size = 100"
   ]
  },
  {
   "cell_type": "markdown",
   "metadata": {},
   "source": [
    "To get the **number of epochs needed for convergence** just execute the cell bellow and choose the dataset size"
   ]
  },
  {
   "cell_type": "code",
   "execution_count": 7,
   "metadata": {},
   "outputs": [
    {
     "name": "stdout",
     "output_type": "stream",
     "text": [
      "Number of epochs needed for convergence for N=100: 107.721\n"
     ]
    }
   ],
   "source": [
    "n_epochs = []\n",
    "num_samples = 1000\n",
    "\n",
    "for i in range(num_samples):\n",
    "    \n",
    "    print(\"Running sample [\"+str(i)+\"]\\r\", end='', flush=True)\n",
    "\n",
    "    target_function = get_target_function()\n",
    "    train_dataset = Dataset(dataset_size, target_function)\n",
    "\n",
    "    perceptron = Perceptron(2)\n",
    "    n_epochs.append(perceptron.train(train_dataset.x, train_dataset.y))\n",
    "\n",
    "print(\"Number of epochs needed for convergence for N=\"+str(dataset_size)+\": \"+str(np.mean(np.array(n_epochs))))"
   ]
  },
  {
   "cell_type": "markdown",
   "metadata": {},
   "source": [
    "Get **P[f(x)!=g(x)]** (Classification error).\n",
    "\n",
    "__Note__: *To make results more robust, for each run we classify 1000 test points and get the error. Then we get the error mean of all runs.*"
   ]
  },
  {
   "cell_type": "code",
   "execution_count": 8,
   "metadata": {},
   "outputs": [
    {
     "name": "stdout",
     "output_type": "stream",
     "text": [
      "Error probability after 1000 samples for N=100: 0.013251\n"
     ]
    }
   ],
   "source": [
    "error = []\n",
    "num_samples = 1000\n",
    "\n",
    "for i in range(num_samples):\n",
    "    \n",
    "    print(\"Running sample [\"+str(i)+\"]\\r\", end='', flush=True)\n",
    "\n",
    "    # Train the perceptron\n",
    "    target_function = get_target_function()\n",
    "    train_dataset = Dataset(dataset_size, target_function)\n",
    "    perceptron = Perceptron(2)\n",
    "    perceptron.train(train_dataset.x, train_dataset.y)\n",
    "\n",
    "    # Classification\n",
    "    test_dataset = Dataset(num_samples, target_function)\n",
    "    test_pred = perceptron.classify(test_dataset.x)\n",
    "\n",
    "    missclasified = np.argwhere(test_dataset.y != test_pred).flatten().size\n",
    "    err = (missclasified*100/num_samples/100)\n",
    "    error.append(err)\n",
    "    \n",
    "print(\"Error probability after \"+str(num_samples)+\" samples for N=\"+str(dataset_size)+\": \"+str(np.mean(np.array(error))))"
   ]
  }
 ],
 "metadata": {
  "kernelspec": {
   "display_name": "Python 3",
   "language": "python",
   "name": "python3"
  },
  "language_info": {
   "codemirror_mode": {
    "name": "ipython",
    "version": 3
   },
   "file_extension": ".py",
   "mimetype": "text/x-python",
   "name": "python",
   "nbconvert_exporter": "python",
   "pygments_lexer": "ipython3",
   "version": "3.6.9"
  }
 },
 "nbformat": 4,
 "nbformat_minor": 4
}
