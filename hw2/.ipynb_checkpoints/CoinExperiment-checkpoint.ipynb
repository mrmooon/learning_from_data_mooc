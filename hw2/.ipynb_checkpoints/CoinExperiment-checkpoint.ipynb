{
 "cells": [
  {
   "cell_type": "code",
   "execution_count": 2,
   "metadata": {},
   "outputs": [],
   "source": [
    "import numpy as np\n",
    "import random"
   ]
  },
  {
   "cell_type": "markdown",
   "metadata": {},
   "source": [
    "### Coin Experiment:\n",
    "\n",
    "Toss a fair coin 10 times. Do this for 1000 coins.\n",
    "\n",
    "*Let 1 be head and 0 be tail.*\n",
    "\n",
    "We are intereseted in:\n",
    "\n",
    "- **c_1**: is the first coin flipped\n",
    "- **c_rand**: ramdonly chose coin\n",
    "- **c_min**: is the coin which had the minimum frequency of heads\n",
    "\n",
    "In particular in the frequency of heads: *v*"
   ]
  },
  {
   "cell_type": "code",
   "execution_count": 14,
   "metadata": {},
   "outputs": [],
   "source": [
    "class CoinExperiment:\n",
    "    \n",
    "    def __init__(self, num_coins, tosses):\n",
    "        self.__result = np.random.randint(2, size=(num_coins, tosses))\n",
    "        self.__num_coins = num_coins\n",
    "        self.__num_tosses = tosses\n",
    "   \n",
    "    def __get_head_frequency(self, coin_tosses):\n",
    "        return np.sum(coin_tosses)/self.__num_tosses\n",
    "    \n",
    "    def get_first_coin_v(self):\n",
    "        return self.__get_head_frequency(self.__result[0])\n",
    "    \n",
    "    def get_rand_coin_v(self):\n",
    "        return self.__get_head_frequency(self.__result[random.randint(1,self.__result.shape[0]-1)])\n",
    "    \n",
    "    def get_min_heads_coin_v(self):\n",
    "        num_heads = np.sum(self.__result, axis=1)\n",
    "        min_heads_id = np.argmin(num_heads)\n",
    "        return self.__get_head_frequency(self.__result[min_heads_id])"
   ]
  },
  {
   "cell_type": "markdown",
   "metadata": {},
   "source": [
    "## Exercise 1, 2:\n",
    "\n",
    "Get the average of v_1, v_rand and v_min of 100.000 tries:"
   ]
  },
  {
   "cell_type": "code",
   "execution_count": 15,
   "metadata": {},
   "outputs": [
    {
     "name": "stdout",
     "output_type": "stream",
     "text": [
      "v_min average value for 100000 experiments is: 0.03757399999999999\n",
      "v_1 average value for 100000 experiments is: 0.49997699999999995\n",
      "v_rand average value for 100000 experiments is: 0.499366\n"
     ]
    }
   ],
   "source": [
    "n = 100000\n",
    "number_of_coins = 1000\n",
    "tosses = 10\n",
    "\n",
    "v_1 = []\n",
    "v_min = []\n",
    "v_rand = []\n",
    "\n",
    "for i in range(n):\n",
    "    if (i%100 == 0):\n",
    "        print(\"Running experiment [\"+str(i)+\"]\\r\", end='', flush=True)\n",
    "    \n",
    "    experiment = CoinExperiment(number_of_coins, tosses)\n",
    "    v_min.append(experiment.get_min_heads_coin_v())\n",
    "    v_1.append(experiment.get_first_coin_v())\n",
    "    v_rand.append(experiment.get_rand_coin_v())\n",
    "\n",
    "v_min_avg = np.mean(np.array(v_min))\n",
    "v_1_avg = np.mean(np.array(v_1))\n",
    "v_rand_avg = np.mean(np.array(v_rand))\n",
    "\n",
    "print(\"v_min average value for \"+str(n)+\" experiments is: \"+str(v_min_avg))\n",
    "print(\"v_1 average value for \"+str(n)+\" experiments is: \"+str(v_1_avg))\n",
    "print(\"v_rand average value for \"+str(n)+\" experiments is: \"+str(v_rand_avg))"
   ]
  }
 ],
 "metadata": {
  "kernelspec": {
   "display_name": "Python 3",
   "language": "python",
   "name": "python3"
  },
  "language_info": {
   "codemirror_mode": {
    "name": "ipython",
    "version": 3
   },
   "file_extension": ".py",
   "mimetype": "text/x-python",
   "name": "python",
   "nbconvert_exporter": "python",
   "pygments_lexer": "ipython3",
   "version": "3.6.9"
  }
 },
 "nbformat": 4,
 "nbformat_minor": 4
}
