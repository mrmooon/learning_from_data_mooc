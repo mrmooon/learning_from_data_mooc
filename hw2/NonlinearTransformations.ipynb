{
 "cells": [
  {
   "cell_type": "code",
   "execution_count": 1,
   "metadata": {},
   "outputs": [],
   "source": [
    "import numpy as np\n",
    "import matplotlib.pyplot as plt"
   ]
  },
  {
   "cell_type": "markdown",
   "metadata": {},
   "source": [
    "### Target function\n",
    "f (x1 , x2) = sign(x21 + x22 − 0.6)"
   ]
  },
  {
   "cell_type": "code",
   "execution_count": 2,
   "metadata": {},
   "outputs": [],
   "source": [
    "class TargetFunction:\n",
    "    # Represents the problem target function\n",
    "    def __init__(self):\n",
    "        get_sign = lambda y: 1 if (y >= 0) else -1\n",
    "        get_sign_vectorized = np.vectorize(get_sign) \n",
    "        self.__sign__ = get_sign_vectorized\n",
    "    \n",
    "    def get_class(self, x):\n",
    "        return self.__sign__(np.sum(x**2, axis=1)-0.6)"
   ]
  },
  {
   "cell_type": "code",
   "execution_count": 3,
   "metadata": {},
   "outputs": [],
   "source": [
    "class Dataset:\n",
    "    # Problem train dataset consisting of each problem point x and its class (0,1)\n",
    "    def __init__(self, num_samples, target_function):\n",
    "        self.x = np.random.uniform(-1,1,(num_samples,2))\n",
    "        self.y = target_function.get_class(self.x)\n",
    "    \n",
    "    # Apply a transformation function to each point of the input dataset\n",
    "    def transform(self, transformation_function):\n",
    "        self.x = np.apply_along_axis(transformation_function, 1, self.x)\n",
    "    \n",
    "    # Add noise to dataset, by default to the 10% of the total points\n",
    "    def noise(self, noisy_points_perc=0.1):\n",
    "        num_points = self.y.shape[0]\n",
    "        num_noisy_points = int(num_points*noisy_points_perc)\n",
    "        noisy_idx = np.random.randint(0, num_points, num_noisy_points)\n",
    "        self.y[noisy_idx] = self.y[noisy_idx]*-1\n",
    "        \n",
    "    def plot(self):\n",
    "        class_0_idx = np.argwhere(self.y == -1)\n",
    "        class_1_idx = np.argwhere(self.y == 1)\n",
    "        \n",
    "        plt.scatter(self.x[class_0_idx,0], self.x[class_0_idx,1], marker='^')\n",
    "        plt.scatter(self.x[class_1_idx,0], self.x[class_1_idx,1], marker='o')\n",
    "        plt.show()"
   ]
  },
  {
   "cell_type": "code",
   "execution_count": 4,
   "metadata": {},
   "outputs": [],
   "source": [
    "class LinearRegression:\n",
    "    \n",
    "    # Add the bias weight to the weights array (bias is x_O in the mooc notation)\n",
    "    def __init__(self, num_input_points):\n",
    "        self.weights = np.zeros(num_input_points+1)\n",
    "        \n",
    "    def __sign__(self, a):\n",
    "        get_sign = lambda y: 1 if (y >= 0) else -1\n",
    "        get_sign_vectorized = np.vectorize(get_sign) \n",
    "        return get_sign_vectorized(a)\n",
    "    \n",
    "    def load_weights(self, weights_array):\n",
    "        self.weights = weights_array\n",
    "        \n",
    "    def classify(self, x):\n",
    "        bias = np.ones(x.shape[0])\n",
    "        x_bias = np.insert(x, 0, bias, axis=1)\n",
    "        return self.__sign__(np.sum(x_bias*self.weights, axis=1))\n",
    "    \n",
    "    def train(self, x, y_real):\n",
    "        bias = np.ones(x.shape[0])\n",
    "        x_bias = np.insert(x, 0, bias, axis=1)\n",
    "        x_bias_t = x_bias.transpose()\n",
    "        x_bias_pseudo_inv = np.matmul(np.linalg.inv(np.matmul(x_bias_t, x_bias)), x_bias_t)\n",
    "        self.weights = np.matmul(x_bias_pseudo_inv, y_real)"
   ]
  },
  {
   "cell_type": "markdown",
   "metadata": {},
   "source": [
    "### Problem scenario\n",
    "\n",
    "Dataset created by target function f (x1 , x2) = sign(x21 + x22 − 0.6)"
   ]
  },
  {
   "cell_type": "code",
   "execution_count": 5,
   "metadata": {},
   "outputs": [
    {
     "data": {
      "image/png": "[encoded data removed]",
      "text/plain": [
       "<Figure size 432x288 with 1 Axes>"
      ]
     },
     "metadata": {
      "needs_background": "light"
     },
     "output_type": "display_data"
    }
   ],
   "source": [
    "target_function = TargetFunction()\n",
    "train_dataset = Dataset(100, target_function)\n",
    "train_dataset.plot()"
   ]
  },
  {
   "cell_type": "markdown",
   "metadata": {},
   "source": [
    "#### Exercise 8\n",
    "\n",
    "Find *E_in* using linear regression given the following number of samples:"
   ]
  },
  {
   "cell_type": "code",
   "execution_count": 6,
   "metadata": {},
   "outputs": [],
   "source": [
    "train_dataset_size = 1000"
   ]
  },
  {
   "cell_type": "code",
   "execution_count": 7,
   "metadata": {},
   "outputs": [
    {
     "name": "stdout",
     "output_type": "stream",
     "text": [
      "E_in trained with N = 1000 points: 0.5060490000000001\n"
     ]
    }
   ],
   "source": [
    "num_samples = 1000\n",
    "\n",
    "linearRegression = LinearRegression(2)\n",
    "target_function = TargetFunction()\n",
    "\n",
    "e_in = []\n",
    "for i in range(num_samples):\n",
    "    print(\"Running sample [\"+str(i)+\"]\\r\", end='', flush=True)\n",
    "\n",
    "    train_dataset = Dataset(train_dataset_size, target_function)\n",
    "    train_dataset.noise()\n",
    "    \n",
    "    linearRegression.train(train_dataset.x, train_dataset.y)\n",
    "\n",
    "    train_pred = linearRegression.classify(train_dataset.x)\n",
    "    train_missclasified = np.argwhere(train_dataset.y != train_pred).flatten().size\n",
    "    train_err = (train_missclasified*100/train_dataset_size/100)\n",
    "    e_in.append(train_err)\n",
    "    \n",
    "print(\"E_in trained with N = \"+str(train_dataset_size)+\" points: \"+str(np.mean(e_in)))"
   ]
  },
  {
   "cell_type": "markdown",
   "metadata": {},
   "source": [
    "### Exercise 9\n",
    "\n",
    "Apply the transformation (1, x1, x2 , x1 x2 , x21^2 , x22^2) and get the weights vector resulting from training."
   ]
  },
  {
   "cell_type": "code",
   "execution_count": 8,
   "metadata": {},
   "outputs": [],
   "source": [
    "# Transform each point of the Dataset\n",
    "def exercise_9_transformation(x_n):\n",
    "    x_n1 = x_n[0]\n",
    "    x_n2 = x_n[1]\n",
    "\n",
    "    return [x_n1, x_n2, x_n1*x_n2, x_n1**2, x_n2**2]"
   ]
  },
  {
   "cell_type": "code",
   "execution_count": 9,
   "metadata": {},
   "outputs": [
    {
     "name": "stdout",
     "output_type": "stream",
     "text": [
      "Average weights vector is: \n"
     ]
    },
    {
     "data": {
      "text/plain": [
       "array([-1.00372331e+00,  9.72420563e-04, -1.00307280e-03, -2.74898228e-03,\n",
       "        1.57471954e+00,  1.57581621e+00])"
      ]
     },
     "execution_count": 9,
     "metadata": {},
     "output_type": "execute_result"
    }
   ],
   "source": [
    "train_dataset_size = 1000\n",
    "num_samples = 1000\n",
    "\n",
    "linearRegression = LinearRegression(5)\n",
    "target_function = TargetFunction()\n",
    "\n",
    "weights = []\n",
    "\n",
    "for i in range(num_samples):\n",
    "    print(\"Running sample [\"+str(i)+\"]\\r\", end='', flush=True)\n",
    "\n",
    "    train_dataset = Dataset(train_dataset_size, target_function)\n",
    "    train_dataset.transform(exercise_9_transformation)\n",
    "    train_dataset.noise()\n",
    "    \n",
    "    linearRegression.train(train_dataset.x, train_dataset.y)\n",
    "\n",
    "    weights.append(linearRegression.weights)\n",
    "    weights_averaged = np.mean(np.array(weights), axis=0)\n",
    "    \n",
    "print(\"Average weights vector is: \")\n",
    "weights_averaged"
   ]
  },
  {
   "cell_type": "markdown",
   "metadata": {},
   "source": [
    "### Exercise 10\n",
    "\n",
    "Get E_out applying the exercise 9 transformation.\n",
    "\n",
    "***Note: this exercise has a dependency on exercise 9. It must be executed before in order to get the weights average***"
   ]
  },
  {
   "cell_type": "code",
   "execution_count": 10,
   "metadata": {},
   "outputs": [],
   "source": [
    "train_dataset_size = 1000\n",
    "test_dataset_size = 1000"
   ]
  },
  {
   "cell_type": "code",
   "execution_count": 11,
   "metadata": {},
   "outputs": [
    {
     "name": "stdout",
     "output_type": "stream",
     "text": [
      "E_out trained with N = 1000 points: 0.11901500000000001\n"
     ]
    }
   ],
   "source": [
    "num_samples = 1000\n",
    "\n",
    "linearRegression = LinearRegression(5)\n",
    "linearRegression.load_weights(weights_averaged)\n",
    "target_function = TargetFunction()\n",
    "\n",
    "e_out = []\n",
    "for i in range(num_samples):\n",
    "    print(\"Running sample [\"+str(i)+\"]\\r\", end='', flush=True)\n",
    "\n",
    "    test_dataset = Dataset(test_dataset_size, target_function)\n",
    "    test_dataset.noise()\n",
    "    test_dataset.transform(exercise_9_transformation)\n",
    "\n",
    "    test_pred = linearRegression.classify(test_dataset.x)\n",
    "    test_missclasified = np.argwhere(test_dataset.y != test_pred).flatten().size\n",
    "    test_err = (test_missclasified*100/test_dataset_size/100)\n",
    "    e_out.append(test_err)\n",
    "    \n",
    "print(\"E_out trained with N = \"+str(train_dataset_size)+\" points: \"+str(np.mean(e_out)))"
   ]
  }
 ],
 "metadata": {
  "kernelspec": {
   "display_name": "Python 3",
   "language": "python",
   "name": "python3"
  },
  "language_info": {
   "codemirror_mode": {
    "name": "ipython",
    "version": 3
   },
   "file_extension": ".py",
   "mimetype": "text/x-python",
   "name": "python",
   "nbconvert_exporter": "python",
   "pygments_lexer": "ipython3",
   "version": "3.6.9"
  }
 },
 "nbformat": 4,
 "nbformat_minor": 4
}
